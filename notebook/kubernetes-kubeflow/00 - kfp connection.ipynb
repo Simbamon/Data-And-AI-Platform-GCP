{
 "cells": [
  {
   "cell_type": "code",
   "execution_count": null,
   "metadata": {},
   "outputs": [],
   "source": [
    "import json\n",
    "\n",
    "with open('gcp_iap_conf.json') as f:\n",
    "    kfp_conf = json.load(f)\n",
    "\n",
    "kfp_host = kfp_conf[\"host\"]\n",
    "kfp_client_id_web = kfp_conf[\"client_id_web\"]\n",
    "kfp_namespace = kfp_conf[\"namespace\"]\n",
    "kfp_client_id_desktop = kfp_conf[\"client_id_desktop\"]\n",
    "kfp_client_secret_desktop = kfp_conf[\"client_secret_desktop\"]"
   ]
  },
  {
   "cell_type": "code",
   "execution_count": null,
   "metadata": {},
   "outputs": [],
   "source": [
    "import google.auth\n",
    "from google_auth_oauthlib.flow import InstalledAppFlow\n",
    "import requests"
   ]
  },
  {
   "cell_type": "code",
   "execution_count": null,
   "metadata": {},
   "outputs": [],
   "source": [
    "CLIENT_ID = kfp_client_id_desktop\n",
    "CLIENT_SECRET = kfp_client_secret_desktop\n",
    "\n",
    "SCOPES = ['https://www.googleapis.com/auth/userinfo.email']\n",
    "\n",
    "REDIRECT_URI = 'urn:ietf:wg:oauth:2.0:oob'"
   ]
  },
  {
   "cell_type": "code",
   "execution_count": null,
   "metadata": {},
   "outputs": [],
   "source": [
    "flow = InstalledAppFlow.from_client_secrets_file(\n",
    "    'client_id_desktop_secret.json',\n",
    "    scopes=SCOPES,\n",
    "    redirect_uri=REDIRECT_URI\n",
    ")\n",
    "\n",
    "authorization_url, _ = flow.authorization_url()"
   ]
  },
  {
   "cell_type": "code",
   "execution_count": null,
   "metadata": {},
   "outputs": [],
   "source": [
    "print(f'Open the following URL in your web browser:\\n{authorization_url}')\n",
    "auth_code = input('Enter the authorization code here: ')"
   ]
  },
  {
   "cell_type": "code",
   "execution_count": null,
   "metadata": {},
   "outputs": [],
   "source": [
    "token_url = 'https://oauth2.googleapis.com/token'\n",
    "token_data = {\n",
    "    'code': auth_code,\n",
    "    'client_id': CLIENT_ID,\n",
    "    'client_secret': CLIENT_SECRET,\n",
    "    'redirect_uri': REDIRECT_URI,\n",
    "    'grant_type': 'authorization_code'\n",
    "}"
   ]
  },
  {
   "cell_type": "code",
   "execution_count": null,
   "metadata": {},
   "outputs": [],
   "source": [
    "token_response = requests.post(token_url, data=token_data)\n",
    "\n",
    "if token_response.status_code == 200:\n",
    "    token_info = token_response.json()\n",
    "    id_token = token_info.get('id_token')\n",
    "    refresh_token = token_info.get('refresh_token')\n",
    "    #print(f'ID Token: {id_token}')\n",
    "else:\n",
    "    print(f'Error status code: {token_response.status_code}')\n",
    "    print(token_response.text)"
   ]
  },
  {
   "cell_type": "code",
   "execution_count": null,
   "metadata": {},
   "outputs": [],
   "source": [
    "headers = {\n",
    "    'Authorization': f'Bearer {id_token}',\n",
    "    'Content_type': 'application/json'\n",
    "}\n",
    "\n",
    "oauth_response = requests.get(kfp_host, headers=headers)\n",
    "\n",
    "if oauth_response.status_code == 200:\n",
    "    print(f'Success!\\n Response: {oauth_response.text}')\n",
    "else:\n",
    "    print(f'Error status code: {oauth_response.status_code}')\n",
    "    print(oauth_response.text)"
   ]
  },
  {
   "cell_type": "code",
   "execution_count": null,
   "metadata": {},
   "outputs": [],
   "source": [
    "# In case if you want to refresh the token\n",
    "\n",
    "refresh_token_url = 'https://oauth2.googleapis.com/token'\n",
    "refresh_token_data = {\n",
    "    'client_id': CLIENT_ID,\n",
    "    'client_secret': CLIENT_SECRET,\n",
    "    'refresh_token': refresh_token,\n",
    "    'grant_type': 'refresh_token'\n",
    "}\n",
    "\n",
    "refresh_token_response = requests.post(token_url, data=token_data)\n",
    "\n",
    "if refresh_token_response.status_code == 200:\n",
    "        token_info = refresh_token_response.json()\n",
    "        refreshed_access_token = token_info.get('access_token')\n",
    "        # print(f'Refreshed Access Token: {refreshed_access_token}')\n",
    "else:\n",
    "    print(f'Error Status code: {refresh_token_response.status_code}')\n",
    "    print(refresh_token_response.text)"
   ]
  }
 ],
 "metadata": {
  "language_info": {
   "name": "python"
  }
 },
 "nbformat": 4,
 "nbformat_minor": 2
}
